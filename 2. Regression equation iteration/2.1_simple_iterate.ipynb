{
 "cells": [
  {
   "cell_type": "markdown",
   "id": "994ef3bf-392d-4b08-a62a-b2963e03fed4",
   "metadata": {},
   "source": [
    "*https://github.com/Aubrey-Bermuda-CA/IFRS9-MODELING-CHINA*"
   ]
  },
  {
   "cell_type": "markdown",
   "id": "d91e3ab4-3a37-4407-b935-2eea625d43bd",
   "metadata": {},
   "source": [
    "*2.1 Function Description: Iterate all macroeconomic factors and endog*"
   ]
  },
  {
   "cell_type": "code",
   "execution_count": 1,
   "id": "f814f9e4-ffde-49f9-87cf-2205e48c8a3b",
   "metadata": {},
   "outputs": [],
   "source": [
    "import time\n",
    "import itertools\n",
    "import numpy as np\n",
    "import pandas as pd\n",
    "import statsmodels.api as sm\n",
    "import statsmodels.stats.diagnostic as dg"
   ]
  },
  {
   "cell_type": "code",
   "execution_count": 2,
   "id": "94f61780-86fe-42d3-beef-e4adf2104dae",
   "metadata": {},
   "outputs": [],
   "source": [
    "# read data\n",
    "macro_data = pd.read_csv(f'./macrofactor_historical_data.csv', index_col=[0], parse_dates=[0])\n",
    "endog_data = pd.read_csv(f'historical_endog.csv', index_col=[0], parse_dates=[0])"
   ]
  },
  {
   "cell_type": "code",
   "execution_count": 3,
   "id": "cdb73a0c-c4a6-4d7b-8145-f3f31f8baeec",
   "metadata": {},
   "outputs": [
    {
     "name": "stderr",
     "output_type": "stream",
     "text": [
      "C:\\Users\\OASIS\\AppData\\Local\\Temp\\ipykernel_17456\\2072272504.py:5: PerformanceWarning: DataFrame is highly fragmented.  This is usually the result of calling `frame.insert` many times, which has poor performance.  Consider joining all columns at once using pd.concat(axis=1) instead. To get a de-fragmented frame, use `newframe = frame.copy()`\n",
      "  df[f'{column}_lag{lag}'] = df[column].shift(lag)\n"
     ]
    }
   ],
   "source": [
    "# Custom function: Calculate a lag period of 1 to n periods for all columns in a DataFrame\n",
    "def calculate_lags(df, lags):\n",
    "    for column in df.columns:\n",
    "        for lag in lags:\n",
    "            df[f'{column}_lag{lag}'] = df[column].shift(lag)\n",
    "    return df\n",
    "\n",
    "# Calculate the lag period of macroeconomic factors\n",
    "lags = [1, 2, 3, 4]\n",
    "macro_data_lag = calculate_lags(macro_data, lags)"
   ]
  },
  {
   "cell_type": "code",
   "execution_count": 4,
   "id": "6619883e-eae0-4ca1-95aa-ff7a6acb1957",
   "metadata": {},
   "outputs": [
    {
     "name": "stdout",
     "output_type": "stream",
     "text": [
      "100%[##################################################->]139.01s, iterating 34500 equation, a total of 345000"
     ]
    }
   ],
   "source": [
    "df = macro_data_lag\n",
    "\n",
    "# get macro factor group information\n",
    "group_df = pd.DataFrame({'name_lag': df.columns.tolist()})\n",
    "group_df['name'] = group_df['name_lag'].str.split('_lag').str[0]\n",
    "pivot_df = group_df.pivot(columns='name', values='name_lag')\n",
    "\n",
    "# prepair data\n",
    "GDP = 'GDP_Const_Qtr' # GDP is used here as a mandatory item, but it is not necessary to do so.\n",
    "gdp_series = pivot_df[GDP].dropna().tolist()\n",
    "pivot_df = pivot_df.drop(GDP, axis=1)\n",
    "\n",
    "# calculate the number of equations\n",
    "scale = sum(1 for _ in itertools.combinations(pivot_df.columns, 2) \\\n",
    "            for _ in itertools.product(gdp_series, pivot_df[_[0]].dropna(), pivot_df[_[1]].dropna()))\n",
    "\n",
    "# timer\n",
    "i = 0\n",
    "start = time.perf_counter()\n",
    "\n",
    "# results columns\n",
    "res_columns= ['V1', 'V2', 'V3', 'Intercept', 'Rsqr', 'AdjRsqr', 'F_pval', 'c1', 'c2', 'c3', 'c0', 'p1', 'p2', 'p3', 'p0', \\\n",
    "              'BGtest', 'ADtest', 'BPtest', 'V1_VIF', 'V2_VIF', 'V3_VIF']\n",
    "result = []\n",
    "results = []\n",
    "\n",
    "# iterate equations\n",
    "# Here we take the OLS model as the basic model for example, and other models can also be customized.\n",
    "# Hypothesis testing can also be customized as needed.\n",
    "for factor in itertools.combinations(pivot_df, 2):\n",
    "    x1 = pivot_df[factor[0]].dropna()\n",
    "    x2 = pivot_df[factor[1]].dropna()\n",
    "    for cartesian in itertools.product(gdp_series, x1, x2):\n",
    "        # define the variables\n",
    "        X = df[list(cartesian)]\n",
    "        Y = endog_data[['endog']]\n",
    "        \n",
    "        # Get sample interval\n",
    "        sample_range = pd.merge(X, Y, left_index=True, right_index=True).dropna()\n",
    "        x_range = sample_range[list(cartesian)]\n",
    "        # adding the constant term\n",
    "        x_range['Intercept'] = 1\n",
    "        y_range = sample_range[['endog']]\n",
    "        \n",
    "        # performing the regression and fitting the model\n",
    "        fit = sm.OLS(endog=y_range, exog=x_range).fit()\n",
    "        resid = fit.resid\n",
    "        # print(ols_model.summary())\n",
    "        \n",
    "        Rsqr = fit.rsquared\n",
    "        AdjRsqr = fit.rsquared_adj\n",
    "        F_pVal = fit.f_pvalue\n",
    "        coef = list(fit.params)\n",
    "        pVal = list(fit.pvalues)\n",
    "        \n",
    "        # Breusch Godfrey test Autocorrelation p>0.05\n",
    "        bgtest = dg.acorr_breusch_godfrey(fit)[1]\n",
    "\n",
    "        # Anderson-Darling test Distribution p>0.05\n",
    "        adtest = dg.normal_ad(resid)[1]\n",
    "        \n",
    "        # Breusch–Pagan test Heteroscedasticity p>0.05\n",
    "        bptest = dg.het_breuschpagan(resid, exog_het=fit.model.exog)[1]\n",
    "        \n",
    "        # Variance inflation factor Multicollinearity <10\n",
    "        # OLS, which is used in the python variance inflation factor calculation, does not add an intercept by default.\n",
    "        VIF = pd.Series(np.linalg.inv(x_range.iloc[:, :-1].corr().to_numpy()).diagonal(), index=x_range.iloc[:, :-1].columns)[:3]\n",
    "        \n",
    "        # result\n",
    "        result = list(cartesian) + ['Intercept'] + [Rsqr, AdjRsqr, F_pVal] + coef + pVal + [bgtest, adtest, bptest] + list(VIF)\n",
    "        results.append(result)\n",
    "        \n",
    "        # Progress bar\n",
    "        i += 1\n",
    "        a = round(i / scale * 50) * \"#\"\n",
    "        b = round((1 - i / scale) * 50) * \" \"\n",
    "        c = (i / scale) * 100\n",
    "        dur = time.perf_counter() - start\n",
    "        print(\"\\r{:^3.0f}%[{}->{}]{:.2f}s, iterating {} equation, a total of {}\".format(c, a, b, dur, i, scale), end=\"\")\n",
    "\n",
    "# output\n",
    "equation = pd.DataFrame(columns=res_columns, data=results)\n",
    "equation.to_csv(f'equation.csv')"
   ]
  },
  {
   "cell_type": "code",
   "execution_count": null,
   "id": "2a449e51-951a-4742-9b5c-1434f6cdf7ff",
   "metadata": {},
   "outputs": [],
   "source": []
  }
 ],
 "metadata": {
  "kernelspec": {
   "display_name": "Python 3 (ipykernel)",
   "language": "python",
   "name": "python3"
  },
  "language_info": {
   "codemirror_mode": {
    "name": "ipython",
    "version": 3
   },
   "file_extension": ".py",
   "mimetype": "text/x-python",
   "name": "python",
   "nbconvert_exporter": "python",
   "pygments_lexer": "ipython3",
   "version": "3.9.13"
  }
 },
 "nbformat": 4,
 "nbformat_minor": 5
}
